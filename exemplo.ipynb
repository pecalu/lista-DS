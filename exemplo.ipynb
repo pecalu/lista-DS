{
 "cells": [
  {
   "attachments": {},
   "cell_type": "markdown",
   "metadata": {},
   "source": [
    "### Exemplos\n",
    "Como percorrer uma lista"
   ]
  },
  {
   "cell_type": "code",
   "execution_count": 4,
   "metadata": {},
   "outputs": [
    {
     "name": "stdout",
     "output_type": "stream",
     "text": [
      "Quantida de deinteiros: 2\n"
     ]
    }
   ],
   "source": [
    "lista = [\"34\", \"12\", \"True\", \"false\", \"34.7\"]\n",
    "\n",
    "# -----------------------------------------------------\n",
    "def conta_inteiros(l: list) -> int:\n",
    "    qtd = 0\n",
    "    for elem in l:\n",
    "        if elem.isdigit():\n",
    "            qtd += 1\n",
    "    return qtd\n",
    "# -----------------------------------------------------\n",
    "\n",
    "x = conta_inteiros(lista)\n",
    "print(f\"Quantida de deinteiros: {x}\")\n",
    "\n",
    "# funcionamento do enumerate\n",
    "# for ind, elem in enumerate(l):\n"
   ]
  }
 ],
 "metadata": {
  "kernelspec": {
   "display_name": "Python 3",
   "language": "python",
   "name": "python3"
  },
  "language_info": {
   "codemirror_mode": {
    "name": "ipython",
    "version": 3
   },
   "file_extension": ".py",
   "mimetype": "text/x-python",
   "name": "python",
   "nbconvert_exporter": "python",
   "pygments_lexer": "ipython3",
   "version": "3.11.4"
  },
  "orig_nbformat": 4
 },
 "nbformat": 4,
 "nbformat_minor": 2
}
