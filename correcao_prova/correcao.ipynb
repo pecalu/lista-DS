{
 "cells": [
  {
   "attachments": {},
   "cell_type": "markdown",
   "metadata": {},
   "source": [
    "Procedimento que preenche uma lista com 5 elementos"
   ]
  },
  {
   "cell_type": "code",
   "execution_count": null,
   "metadata": {},
   "outputs": [],
   "source": [
    "def preenche_lista(l: list) -> None:\n",
    "    for volta in range(5):\n",
    "        elem = input(\"Digite um caractere: \")\n",
    "        l.append(elem)\n",
    "\n",
    "lista = list()\n",
    "\n",
    "preenche_lista(lista)"
   ]
  }
 ],
 "metadata": {
  "language_info": {
   "name": "python"
  },
  "orig_nbformat": 4
 },
 "nbformat": 4,
 "nbformat_minor": 2
}
